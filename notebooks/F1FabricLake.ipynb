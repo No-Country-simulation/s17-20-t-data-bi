{
 "cells": [
  {
   "cell_type": "code",
   "execution_count": 1,
   "metadata": {},
   "outputs": [
    {
     "name": "stdout",
     "output_type": "stream",
     "text": [
      "Requirement already satisfied: azure-storage-file-datalake in c:\\users\\usuario\\appdata\\local\\programs\\python\\python311\\lib\\site-packages (12.16.0)\n",
      "Requirement already satisfied: azure-identity in c:\\users\\usuario\\appdata\\local\\programs\\python\\python311\\lib\\site-packages (1.17.1)\n",
      "Requirement already satisfied: pyodbc in c:\\users\\usuario\\appdata\\local\\programs\\python\\python311\\lib\\site-packages (5.1.0)\n",
      "Requirement already satisfied: azure-core>=1.28.0 in c:\\users\\usuario\\appdata\\local\\programs\\python\\python311\\lib\\site-packages (from azure-storage-file-datalake) (1.30.2)\n",
      "Requirement already satisfied: azure-storage-blob>=12.21.0 in c:\\users\\usuario\\appdata\\local\\programs\\python\\python311\\lib\\site-packages (from azure-storage-file-datalake) (12.22.0)\n",
      "Requirement already satisfied: typing-extensions>=4.6.0 in c:\\users\\usuario\\appdata\\local\\programs\\python\\python311\\lib\\site-packages (from azure-storage-file-datalake) (4.10.0)\n",
      "Requirement already satisfied: isodate>=0.6.1 in c:\\users\\usuario\\appdata\\local\\programs\\python\\python311\\lib\\site-packages (from azure-storage-file-datalake) (0.6.1)\n",
      "Requirement already satisfied: cryptography>=2.5 in c:\\users\\usuario\\appdata\\local\\programs\\python\\python311\\lib\\site-packages (from azure-identity) (42.0.8)\n",
      "Requirement already satisfied: msal>=1.24.0 in c:\\users\\usuario\\appdata\\local\\programs\\python\\python311\\lib\\site-packages (from azure-identity) (1.30.0)\n",
      "Requirement already satisfied: msal-extensions>=0.3.0 in c:\\users\\usuario\\appdata\\local\\programs\\python\\python311\\lib\\site-packages (from azure-identity) (1.2.0)\n",
      "Requirement already satisfied: requests>=2.21.0 in c:\\users\\usuario\\appdata\\local\\programs\\python\\python311\\lib\\site-packages (from azure-core>=1.28.0->azure-storage-file-datalake) (2.32.3)\n",
      "Requirement already satisfied: six>=1.11.0 in c:\\users\\usuario\\appdata\\local\\programs\\python\\python311\\lib\\site-packages (from azure-core>=1.28.0->azure-storage-file-datalake) (1.16.0)\n",
      "Requirement already satisfied: cffi>=1.12 in c:\\users\\usuario\\appdata\\local\\programs\\python\\python311\\lib\\site-packages (from cryptography>=2.5->azure-identity) (1.16.0)\n",
      "Requirement already satisfied: PyJWT<3,>=1.0.0 in c:\\users\\usuario\\appdata\\local\\programs\\python\\python311\\lib\\site-packages (from PyJWT[crypto]<3,>=1.0.0->msal>=1.24.0->azure-identity) (2.8.0)\n",
      "Requirement already satisfied: portalocker<3,>=1.4 in c:\\users\\usuario\\appdata\\local\\programs\\python\\python311\\lib\\site-packages (from msal-extensions>=0.3.0->azure-identity) (2.10.1)\n",
      "Requirement already satisfied: pycparser in c:\\users\\usuario\\appdata\\local\\programs\\python\\python311\\lib\\site-packages (from cffi>=1.12->cryptography>=2.5->azure-identity) (2.22)\n",
      "Requirement already satisfied: pywin32>=226 in c:\\users\\usuario\\appdata\\roaming\\python\\python311\\site-packages (from portalocker<3,>=1.4->msal-extensions>=0.3.0->azure-identity) (306)\n",
      "Requirement already satisfied: charset-normalizer<4,>=2 in c:\\users\\usuario\\appdata\\local\\programs\\python\\python311\\lib\\site-packages (from requests>=2.21.0->azure-core>=1.28.0->azure-storage-file-datalake) (3.1.0)\n",
      "Requirement already satisfied: idna<4,>=2.5 in c:\\users\\usuario\\appdata\\local\\programs\\python\\python311\\lib\\site-packages (from requests>=2.21.0->azure-core>=1.28.0->azure-storage-file-datalake) (3.4)\n",
      "Requirement already satisfied: urllib3<3,>=1.21.1 in c:\\users\\usuario\\appdata\\local\\programs\\python\\python311\\lib\\site-packages (from requests>=2.21.0->azure-core>=1.28.0->azure-storage-file-datalake) (2.2.2)\n",
      "Requirement already satisfied: certifi>=2017.4.17 in c:\\users\\usuario\\appdata\\local\\programs\\python\\python311\\lib\\site-packages (from requests>=2.21.0->azure-core>=1.28.0->azure-storage-file-datalake) (2022.12.7)\n"
     ]
    },
    {
     "name": "stderr",
     "output_type": "stream",
     "text": [
      "DEPRECATION: Loading egg at c:\\users\\usuario\\appdata\\local\\programs\\python\\python311\\lib\\site-packages\\nester-1.0.0-py3.11.egg is deprecated. pip 24.3 will enforce this behaviour change. A possible replacement is to use pip for package installation. Discussion can be found at https://github.com/pypa/pip/issues/12330\n",
      "\n",
      "[notice] A new release of pip is available: 24.1.2 -> 24.2\n",
      "[notice] To update, run: python.exe -m pip install --upgrade pip\n"
     ]
    }
   ],
   "source": [
    "!pip install azure-storage-file-datalake azure-identity pyodbc"
   ]
  },
  {
   "cell_type": "markdown",
   "metadata": {},
   "source": [
    "HAY QUE TENER INSTALADO EN WINDOWS EL DRIVER ODBC PARA BASES DE DATOS SQL QUE SE PUEDE DESCARGAR DE ESTE LINK\n",
    "https://learn.microsoft.com/en-us/sql/connect/odbc/download-odbc-driver-for-sql-server?view=sql-server-ver15#download-for-windows\n",
    "Igual lo subi al repo de GitHub es el archivo msodbcsql.msi en la carpeta Utils"
   ]
  },
  {
   "cell_type": "code",
   "execution_count": 2,
   "metadata": {},
   "outputs": [],
   "source": [
    "from azure.identity import InteractiveBrowserCredential\n",
    "\n",
    "credential = InteractiveBrowserCredential()"
   ]
  },
  {
   "cell_type": "code",
   "execution_count": 3,
   "metadata": {},
   "outputs": [],
   "source": [
    "import os"
   ]
  },
  {
   "cell_type": "code",
   "execution_count": 6,
   "metadata": {},
   "outputs": [],
   "source": [
    "from azure.storage.filedatalake import (\n",
    "    DataLakeServiceClient,\n",
    "    DataLakeDirectoryClient,\n",
    "    FileSystemClient\n",
    ")"
   ]
  },
  {
   "cell_type": "code",
   "execution_count": 29,
   "metadata": {},
   "outputs": [],
   "source": [
    "#cadena de conexion al punto de datos SQL del datalake de fabric MLModel\n",
    "sql_endpoint = \"nwn7f7ze6vtuxen5age454nhca-p44tzcajmseujpwnyirs57khce.datawarehouse.fabric.microsoft.com\" # copy and paste the SQL endpoint from any of the Lakehouses or Warehouses in your Fabric Workspace\n",
    "database = \"MLModel\" # copy and paste the name of the Lakehouse or Warehouse you want to connect to\n",
    "#\"https://onelake.dfs.fabric.microsoft.com/883c397f-6409-4489-becd-c2232efd4711/05bfc39e-219f-42de-9013-1ee05672af29/Tables\"\n",
    "connection_string = f\"Driver={{ODBC Driver 18 for SQL Server}};Server={sql_endpoint},1433;Database=f{database};Encrypt=Yes;TrustServerCertificate=No\""
   ]
  },
  {
   "cell_type": "code",
   "execution_count": 8,
   "metadata": {},
   "outputs": [],
   "source": [
    "import struct\n",
    "from itertools import chain, repeat\n",
    "import pyodbc"
   ]
  },
  {
   "cell_type": "code",
   "execution_count": 9,
   "metadata": {},
   "outputs": [],
   "source": [
    "# prepare the access token - Aquí se abre una ventana del browser y pide ingresar a nuestra cuenta de fabric para autenticar\n",
    "\n",
    "token_object = credential.get_token(\"https://database.windows.net//.default\") # Retrieve an access token valid to connect to SQL databases\n",
    "token_as_bytes = bytes(token_object.token, \"UTF-8\") # Convert the token to a UTF-8 byte string\n"
   ]
  },
  {
   "cell_type": "code",
   "execution_count": 30,
   "metadata": {},
   "outputs": [],
   "source": [
    "encoded_bytes = bytes(chain.from_iterable(zip(token_as_bytes, repeat(0)))) # Encode the bytes to a Windows byte string\n",
    "token_bytes = struct.pack(\"<i\", len(encoded_bytes)) + encoded_bytes # Package the token into a bytes object\n",
    "attrs_before = {1256: token_bytes}  # Attribute pointing to SQL_COPT_SS_ACCESS_TOKEN to pass access token to the driver\n",
    "\n",
    "\n",
    "# build the connection\n",
    "\n",
    "connection = pyodbc.connect(connection_string, attrs_before=attrs_before)\n"
   ]
  },
  {
   "cell_type": "code",
   "execution_count": 31,
   "metadata": {},
   "outputs": [
    {
     "name": "stdout",
     "output_type": "stream",
     "text": [
      "[('circuitswithimages', 359008360, None, 1, 0, 'U ', 'USER_TABLE', datetime.datetime(2024, 9, 3, 12, 5, 53, 317000), datetime.datetime(2024, 9, 3, 12, 5, 53, 317000), False, False, False, 0, None, 10, False, True, False, False, False, False, False, 0, False, False, 0, 'TABLE', False, False, 0, 'SCHEMA_AND_DATA', 0, 'NON_TEMPORAL_TABLE', None, False, False, None, None, None, False, False, -1, -1, 'INFINITE', 0, 'NON_LEDGER_TABLE', None, False), ('driverswithimages', 375008417, None, 1, 0, 'U ', 'USER_TABLE', datetime.datetime(2024, 9, 3, 12, 5, 55, 110000), datetime.datetime(2024, 9, 3, 12, 5, 55, 110000), False, False, False, 0, None, 10, False, True, False, False, False, False, False, 0, False, False, 0, 'TABLE', False, False, 0, 'SCHEMA_AND_DATA', 0, 'NON_TEMPORAL_TABLE', None, False, False, None, None, None, False, False, -1, -1, 'INFINITE', 0, 'NON_LEDGER_TABLE', None, False), ('constructorswithimages', 391008474, None, 1, 0, 'U ', 'USER_TABLE', datetime.datetime(2024, 9, 3, 12, 5, 55, 357000), datetime.datetime(2024, 9, 3, 12, 5, 55, 357000), False, False, False, 0, None, 6, False, True, False, False, False, False, False, 0, False, False, 0, 'TABLE', False, False, 0, 'SCHEMA_AND_DATA', 0, 'NON_TEMPORAL_TABLE', None, False, False, None, None, None, False, False, -1, -1, 'INFINITE', 0, 'NON_LEDGER_TABLE', None, False), ('circuits', 1301579675, None, 1, 0, 'U ', 'USER_TABLE', datetime.datetime(2024, 8, 27, 4, 45, 31, 53000), datetime.datetime(2024, 8, 29, 4, 37, 28, 233000), False, False, False, 0, None, 9, False, True, False, False, False, False, False, 0, False, False, 0, 'TABLE', False, False, 0, 'SCHEMA_AND_DATA', 0, 'NON_TEMPORAL_TABLE', None, False, False, None, None, None, False, False, -1, -1, 'INFINITE', 0, 'NON_LEDGER_TABLE', None, False), ('constructor_results', 1317579732, None, 1, 0, 'U ', 'USER_TABLE', datetime.datetime(2024, 8, 27, 4, 46, 5, 23000), datetime.datetime(2024, 8, 29, 4, 37, 45, 43000), False, False, False, 0, None, 5, False, True, False, False, False, False, False, 0, False, False, 0, 'TABLE', False, False, 0, 'SCHEMA_AND_DATA', 0, 'NON_TEMPORAL_TABLE', None, False, False, None, None, None, False, False, -1, -1, 'INFINITE', 0, 'NON_LEDGER_TABLE', None, False), ('constructor_standings', 1333579789, None, 1, 0, 'U ', 'USER_TABLE', datetime.datetime(2024, 8, 27, 4, 46, 39, 680000), datetime.datetime(2024, 8, 29, 4, 39, 16, 707000), False, False, False, 0, None, 7, False, True, False, False, False, False, False, 0, False, False, 0, 'TABLE', False, False, 0, 'SCHEMA_AND_DATA', 0, 'NON_TEMPORAL_TABLE', None, False, False, None, None, None, False, False, -1, -1, 'INFINITE', 0, 'NON_LEDGER_TABLE', None, False), ('constructors', 1349579846, None, 1, 0, 'U ', 'USER_TABLE', datetime.datetime(2024, 8, 27, 4, 46, 54, 713000), datetime.datetime(2024, 8, 29, 4, 39, 16, 720000), False, False, False, 0, None, 5, False, True, False, False, False, False, False, 0, False, False, 0, 'TABLE', False, False, 0, 'SCHEMA_AND_DATA', 0, 'NON_TEMPORAL_TABLE', None, False, False, None, None, None, False, False, -1, -1, 'INFINITE', 0, 'NON_LEDGER_TABLE', None, False), ('driver_standings', 1365579903, None, 1, 0, 'U ', 'USER_TABLE', datetime.datetime(2024, 8, 27, 4, 47, 14, 553000), datetime.datetime(2024, 8, 29, 4, 38, 45, 70000), False, False, False, 0, None, 7, False, True, False, False, False, False, False, 0, False, False, 0, 'TABLE', False, False, 0, 'SCHEMA_AND_DATA', 0, 'NON_TEMPORAL_TABLE', None, False, False, None, None, None, False, False, -1, -1, 'INFINITE', 0, 'NON_LEDGER_TABLE', None, False), ('drivers', 1381579960, None, 1, 0, 'U ', 'USER_TABLE', datetime.datetime(2024, 8, 27, 4, 47, 29, 753000), datetime.datetime(2024, 8, 29, 4, 38, 56, 487000), False, False, False, 0, None, 9, False, True, False, False, False, False, False, 0, False, False, 0, 'TABLE', False, False, 0, 'SCHEMA_AND_DATA', 0, 'NON_TEMPORAL_TABLE', None, False, False, None, None, None, False, False, -1, -1, 'INFINITE', 0, 'NON_LEDGER_TABLE', None, False), ('lap_times', 1397580017, None, 1, 0, 'U ', 'USER_TABLE', datetime.datetime(2024, 8, 27, 4, 47, 44, 773000), datetime.datetime(2024, 8, 29, 4, 38, 50, 867000), False, False, False, 0, None, 6, False, True, False, False, False, False, False, 0, False, False, 0, 'TABLE', False, False, 0, 'SCHEMA_AND_DATA', 0, 'NON_TEMPORAL_TABLE', None, False, False, None, None, None, False, False, -1, -1, 'INFINITE', 0, 'NON_LEDGER_TABLE', None, False), ('pit_stops', 1413580074, None, 1, 0, 'U ', 'USER_TABLE', datetime.datetime(2024, 8, 27, 4, 48, 4, 757000), datetime.datetime(2024, 8, 29, 4, 38, 56, 470000), False, False, False, 0, None, 7, False, True, False, False, False, False, False, 0, False, False, 0, 'TABLE', False, False, 0, 'SCHEMA_AND_DATA', 0, 'NON_TEMPORAL_TABLE', None, False, False, None, None, None, False, False, -1, -1, 'INFINITE', 0, 'NON_LEDGER_TABLE', None, False), ('qualifying', 1429580131, None, 1, 0, 'U ', 'USER_TABLE', datetime.datetime(2024, 8, 27, 4, 48, 15, 540000), datetime.datetime(2024, 8, 27, 4, 48, 15, 540000), False, False, False, 0, None, 9, False, True, False, False, False, False, False, 0, False, False, 0, 'TABLE', False, False, 0, 'SCHEMA_AND_DATA', 0, 'NON_TEMPORAL_TABLE', None, False, False, None, None, None, False, False, -1, -1, 'INFINITE', 0, 'NON_LEDGER_TABLE', None, False), ('races', 1445580188, None, 1, 0, 'U ', 'USER_TABLE', datetime.datetime(2024, 8, 27, 4, 48, 29, 833000), datetime.datetime(2024, 8, 29, 4, 37, 37, 17000), False, False, False, 0, None, 18, False, True, False, False, False, False, False, 0, False, False, 0, 'TABLE', False, False, 0, 'SCHEMA_AND_DATA', 0, 'NON_TEMPORAL_TABLE', None, False, False, None, None, None, False, False, -1, -1, 'INFINITE', 0, 'NON_LEDGER_TABLE', None, False), ('results', 1461580245, None, 1, 0, 'U ', 'USER_TABLE', datetime.datetime(2024, 8, 27, 4, 48, 54, 620000), datetime.datetime(2024, 8, 29, 4, 39, 3, 413000), False, False, False, 0, None, 18, False, True, False, False, False, False, False, 0, False, False, 0, 'TABLE', False, False, 0, 'SCHEMA_AND_DATA', 0, 'NON_TEMPORAL_TABLE', None, False, False, None, None, None, False, False, -1, -1, 'INFINITE', 0, 'NON_LEDGER_TABLE', None, False), ('seasons', 1477580302, None, 1, 0, 'U ', 'USER_TABLE', datetime.datetime(2024, 8, 27, 4, 49, 9, 630000), datetime.datetime(2024, 8, 27, 4, 49, 9, 630000), False, False, False, 0, None, 2, False, True, False, False, False, False, False, 0, False, False, 0, 'TABLE', False, False, 0, 'SCHEMA_AND_DATA', 0, 'NON_TEMPORAL_TABLE', None, False, False, None, None, None, False, False, -1, -1, 'INFINITE', 0, 'NON_LEDGER_TABLE', None, False), ('sprint_results', 1493580359, None, 1, 0, 'U ', 'USER_TABLE', datetime.datetime(2024, 8, 27, 4, 49, 30, 10000), datetime.datetime(2024, 8, 29, 4, 39, 8, 957000), False, False, False, 0, None, 16, False, True, False, False, False, False, False, 0, False, False, 0, 'TABLE', False, False, 0, 'SCHEMA_AND_DATA', 0, 'NON_TEMPORAL_TABLE', None, False, False, None, None, None, False, False, -1, -1, 'INFINITE', 0, 'NON_LEDGER_TABLE', None, False), ('status', 1509580416, None, 1, 0, 'U ', 'USER_TABLE', datetime.datetime(2024, 8, 27, 4, 49, 44, 747000), datetime.datetime(2024, 8, 29, 4, 39, 8, 947000), False, False, False, 0, None, 2, False, True, False, False, False, False, False, 0, False, False, 0, 'TABLE', False, False, 0, 'SCHEMA_AND_DATA', 0, 'NON_TEMPORAL_TABLE', None, False, False, None, None, None, False, False, -1, -1, 'INFINITE', 0, 'NON_LEDGER_TABLE', None, False)]\n"
     ]
    }
   ],
   "source": [
    "cursor = connection.cursor()\n",
    "cursor.execute(\"SELECT * FROM sys.tables\")\n",
    "rows = cursor.fetchall()\n",
    "print(rows) # this will print all the tables available in the lakehouse or warehouse"
   ]
  },
  {
   "cell_type": "code",
   "execution_count": null,
   "metadata": {},
   "outputs": [],
   "source": []
  },
  {
   "cell_type": "code",
   "execution_count": 24,
   "metadata": {},
   "outputs": [],
   "source": [
    "def generate_dataset(yearfrom,yearuntil,positionfrom,positionuntil):\n",
    "    cursor.execute( f\"\"\"\n",
    "    SELECT ra.raceId, ra.year,ra.round,ra.circuitId,re.driverId,re.constructorId,\n",
    "    re.grid,TRY_CAST(re.position as int) as position,re.points,re.statusId,st.status,\n",
    "    re.laps,re.fastestLap,re.fastestLapTime\n",
    "    FROM races ra \n",
    "    JOIN results re ON ra.raceId = re.raceId\n",
    "    JOIN status st ON st.statusId= re.statusId\n",
    "    WHERE position >= {positionfrom} AND position <= {positionuntil} AND ra.year >= {yearfrom} AND ra.year <= {yearuntil} \n",
    "    ORDER BY ra.year desc,ra.round, position\"\"\")\n",
    "    df= cursor.fetchall()\n",
    "    return df"
   ]
  },
  {
   "cell_type": "markdown",
   "metadata": {},
   "source": [
    "TUTORIAL DE CONEXION DESDE VSCODE AL DATALAKE DE FABRIC A TRAVES DE ODBC:\n",
    "https://debruyn.dev/2023/connect-to-fabric-lakehouses-warehouses-from-python-code/"
   ]
  },
  {
   "cell_type": "code",
   "execution_count": null,
   "metadata": {},
   "outputs": [],
   "source": []
  }
 ],
 "metadata": {
  "kernelspec": {
   "display_name": "Python 3",
   "language": "python",
   "name": "python3"
  },
  "language_info": {
   "codemirror_mode": {
    "name": "ipython",
    "version": 3
   },
   "file_extension": ".py",
   "mimetype": "text/x-python",
   "name": "python",
   "nbconvert_exporter": "python",
   "pygments_lexer": "ipython3",
   "version": "3.11.2"
  }
 },
 "nbformat": 4,
 "nbformat_minor": 2
}
