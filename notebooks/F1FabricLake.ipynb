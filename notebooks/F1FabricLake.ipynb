{
 "cells": [
  {
   "cell_type": "code",
   "execution_count": 1,
   "metadata": {},
   "outputs": [
    {
     "name": "stdout",
     "output_type": "stream",
     "text": [
      "Requirement already satisfied: azure-storage-file-datalake in c:\\users\\usuario\\appdata\\local\\programs\\python\\python311\\lib\\site-packages (12.16.0)\n",
      "Requirement already satisfied: azure-identity in c:\\users\\usuario\\appdata\\local\\programs\\python\\python311\\lib\\site-packages (1.17.1)\n",
      "Requirement already satisfied: pyodbc in c:\\users\\usuario\\appdata\\local\\programs\\python\\python311\\lib\\site-packages (5.1.0)\n",
      "Requirement already satisfied: azure-core>=1.28.0 in c:\\users\\usuario\\appdata\\local\\programs\\python\\python311\\lib\\site-packages (from azure-storage-file-datalake) (1.30.2)\n",
      "Requirement already satisfied: azure-storage-blob>=12.21.0 in c:\\users\\usuario\\appdata\\local\\programs\\python\\python311\\lib\\site-packages (from azure-storage-file-datalake) (12.22.0)\n",
      "Requirement already satisfied: typing-extensions>=4.6.0 in c:\\users\\usuario\\appdata\\local\\programs\\python\\python311\\lib\\site-packages (from azure-storage-file-datalake) (4.10.0)\n",
      "Requirement already satisfied: isodate>=0.6.1 in c:\\users\\usuario\\appdata\\local\\programs\\python\\python311\\lib\\site-packages (from azure-storage-file-datalake) (0.6.1)\n",
      "Requirement already satisfied: cryptography>=2.5 in c:\\users\\usuario\\appdata\\local\\programs\\python\\python311\\lib\\site-packages (from azure-identity) (42.0.8)\n",
      "Requirement already satisfied: msal>=1.24.0 in c:\\users\\usuario\\appdata\\local\\programs\\python\\python311\\lib\\site-packages (from azure-identity) (1.30.0)\n",
      "Requirement already satisfied: msal-extensions>=0.3.0 in c:\\users\\usuario\\appdata\\local\\programs\\python\\python311\\lib\\site-packages (from azure-identity) (1.2.0)\n",
      "Requirement already satisfied: requests>=2.21.0 in c:\\users\\usuario\\appdata\\local\\programs\\python\\python311\\lib\\site-packages (from azure-core>=1.28.0->azure-storage-file-datalake) (2.32.3)\n",
      "Requirement already satisfied: six>=1.11.0 in c:\\users\\usuario\\appdata\\local\\programs\\python\\python311\\lib\\site-packages (from azure-core>=1.28.0->azure-storage-file-datalake) (1.16.0)\n",
      "Requirement already satisfied: cffi>=1.12 in c:\\users\\usuario\\appdata\\local\\programs\\python\\python311\\lib\\site-packages (from cryptography>=2.5->azure-identity) (1.16.0)\n",
      "Requirement already satisfied: PyJWT<3,>=1.0.0 in c:\\users\\usuario\\appdata\\local\\programs\\python\\python311\\lib\\site-packages (from PyJWT[crypto]<3,>=1.0.0->msal>=1.24.0->azure-identity) (2.8.0)\n",
      "Requirement already satisfied: portalocker<3,>=1.4 in c:\\users\\usuario\\appdata\\local\\programs\\python\\python311\\lib\\site-packages (from msal-extensions>=0.3.0->azure-identity) (2.10.1)\n",
      "Requirement already satisfied: pycparser in c:\\users\\usuario\\appdata\\local\\programs\\python\\python311\\lib\\site-packages (from cffi>=1.12->cryptography>=2.5->azure-identity) (2.22)\n",
      "Requirement already satisfied: pywin32>=226 in c:\\users\\usuario\\appdata\\roaming\\python\\python311\\site-packages (from portalocker<3,>=1.4->msal-extensions>=0.3.0->azure-identity) (306)\n",
      "Requirement already satisfied: charset-normalizer<4,>=2 in c:\\users\\usuario\\appdata\\local\\programs\\python\\python311\\lib\\site-packages (from requests>=2.21.0->azure-core>=1.28.0->azure-storage-file-datalake) (3.1.0)\n",
      "Requirement already satisfied: idna<4,>=2.5 in c:\\users\\usuario\\appdata\\local\\programs\\python\\python311\\lib\\site-packages (from requests>=2.21.0->azure-core>=1.28.0->azure-storage-file-datalake) (3.4)\n",
      "Requirement already satisfied: urllib3<3,>=1.21.1 in c:\\users\\usuario\\appdata\\local\\programs\\python\\python311\\lib\\site-packages (from requests>=2.21.0->azure-core>=1.28.0->azure-storage-file-datalake) (2.2.2)\n",
      "Requirement already satisfied: certifi>=2017.4.17 in c:\\users\\usuario\\appdata\\local\\programs\\python\\python311\\lib\\site-packages (from requests>=2.21.0->azure-core>=1.28.0->azure-storage-file-datalake) (2022.12.7)\n"
     ]
    },
    {
     "name": "stderr",
     "output_type": "stream",
     "text": [
      "DEPRECATION: Loading egg at c:\\users\\usuario\\appdata\\local\\programs\\python\\python311\\lib\\site-packages\\nester-1.0.0-py3.11.egg is deprecated. pip 24.3 will enforce this behaviour change. A possible replacement is to use pip for package installation. Discussion can be found at https://github.com/pypa/pip/issues/12330\n",
      "\n",
      "[notice] A new release of pip is available: 24.1.2 -> 24.2\n",
      "[notice] To update, run: python.exe -m pip install --upgrade pip\n"
     ]
    }
   ],
   "source": [
    "!pip install azure-storage-file-datalake azure-identity pyodbc"
   ]
  },
  {
   "cell_type": "markdown",
   "metadata": {},
   "source": [
    "HAY QUE TENER INSTALADO EN WINDOWS EL DRIVER ODBC PARA BASES DE DATOS SQL QUE SE PUEDE DESCARGAR DE ESTE LINK\n",
    "https://learn.microsoft.com/en-us/sql/connect/odbc/download-odbc-driver-for-sql-server?view=sql-server-ver15#download-for-windows\n",
    "Igual lo subi al repo de GitHub es el archivo msodbcsql.msi en la carpeta Utils"
   ]
  },
  {
   "cell_type": "code",
   "execution_count": 2,
   "metadata": {},
   "outputs": [],
   "source": [
    "from azure.identity import InteractiveBrowserCredential\n",
    "\n",
    "credential = InteractiveBrowserCredential()"
   ]
  },
  {
   "cell_type": "code",
   "execution_count": 3,
   "metadata": {},
   "outputs": [],
   "source": [
    "import os"
   ]
  },
  {
   "cell_type": "code",
   "execution_count": 6,
   "metadata": {},
   "outputs": [],
   "source": [
    "from azure.storage.filedatalake import (\n",
    "    DataLakeServiceClient,\n",
    "    DataLakeDirectoryClient,\n",
    "    FileSystemClient\n",
    ")"
   ]
  },
  {
   "cell_type": "code",
   "execution_count": 29,
   "metadata": {},
   "outputs": [],
   "source": [
    "#cadena de conexion al punto de datos SQL del datalake de fabric MLModel\n",
    "sql_endpoint = \"nwn7f7ze6vtuxen5age454nhca-p44tzcajmseujpwnyirs57khce.datawarehouse.fabric.microsoft.com\" # copy and paste the SQL endpoint from any of the Lakehouses or Warehouses in your Fabric Workspace\n",
    "database = \"MLModel\" # copy and paste the name of the Lakehouse or Warehouse you want to connect to\n",
    "#\"https://onelake.dfs.fabric.microsoft.com/883c397f-6409-4489-becd-c2232efd4711/05bfc39e-219f-42de-9013-1ee05672af29/Tables\"\n",
    "connection_string = f\"Driver={{ODBC Driver 18 for SQL Server}};Server={sql_endpoint},1433;Database=f{database};Encrypt=Yes;TrustServerCertificate=No\""
   ]
  },
  {
   "cell_type": "code",
   "execution_count": 8,
   "metadata": {},
   "outputs": [],
   "source": [
    "import struct\n",
    "from itertools import chain, repeat\n",
    "import pyodbc"
   ]
  },
  {
   "cell_type": "code",
   "execution_count": 9,
   "metadata": {},
   "outputs": [],
   "source": [
    "# prepare the access token - Aquí se abre una ventana del browser y pide ingresar a nuestra cuenta de fabric para autenticar\n",
    "\n",
    "token_object = credential.get_token(\"https://database.windows.net//.default\") # Retrieve an access token valid to connect to SQL databases\n",
    "token_as_bytes = bytes(token_object.token, \"UTF-8\") # Convert the token to a UTF-8 byte string\n"
   ]
  },
  {
   "cell_type": "code",
   "execution_count": 30,
   "metadata": {},
   "outputs": [],
   "source": [
    "encoded_bytes = bytes(chain.from_iterable(zip(token_as_bytes, repeat(0)))) # Encode the bytes to a Windows byte string\n",
    "token_bytes = struct.pack(\"<i\", len(encoded_bytes)) + encoded_bytes # Package the token into a bytes object\n",
    "attrs_before = {1256: token_bytes}  # Attribute pointing to SQL_COPT_SS_ACCESS_TOKEN to pass access token to the driver\n",
    "\n",
    "\n",
    "# build the connection\n",
    "\n",
    "connection = pyodbc.connect(connection_string, attrs_before=attrs_before)\n"
   ]
  },
  {
   "cell_type": "code",
   "execution_count": 31,
   "metadata": {},
   "outputs": [
    {
     "name": "stdout",
     "output_type": "stream",
     "text": [
      "[('circuitswithimages', 359008360, None, 1, 0, 'U ', 'USER_TABLE', datetime.datetime(2024, 9, 3, 12, 5, 53, 317000), datetime.datetime(2024, 9, 3, 12, 5, 53, 317000), False, False, False, 0, None, 10, False, True, False, False, False, False, False, 0, False, False, 0, 'TABLE', False, False, 0, 'SCHEMA_AND_DATA', 0, 'NON_TEMPORAL_TABLE', None, False, False, None, None, None, False, False, -1, -1, 'INFINITE', 0, 'NON_LEDGER_TABLE', None, False), ('driverswithimages', 375008417, None, 1, 0, 'U ', 'USER_TABLE', datetime.datetime(2024, 9, 3, 12, 5, 55, 110000), datetime.datetime(2024, 9, 3, 12, 5, 55, 110000), False, False, False, 0, None, 10, False, True, False, False, False, False, False, 0, False, False, 0, 'TABLE', False, False, 0, 'SCHEMA_AND_DATA', 0, 'NON_TEMPORAL_TABLE', None, False, False, None, None, None, False, False, -1, -1, 'INFINITE', 0, 'NON_LEDGER_TABLE', None, False), ('constructorswithimages', 391008474, None, 1, 0, 'U ', 'USER_TABLE', datetime.datetime(2024, 9, 3, 12, 5, 55, 357000), datetime.datetime(2024, 9, 3, 12, 5, 55, 357000), False, False, False, 0, None, 6, False, True, False, False, False, False, False, 0, False, False, 0, 'TABLE', False, False, 0, 'SCHEMA_AND_DATA', 0, 'NON_TEMPORAL_TABLE', None, False, False, None, None, None, False, False, -1, -1, 'INFINITE', 0, 'NON_LEDGER_TABLE', None, False), ('circuits', 1301579675, None, 1, 0, 'U ', 'USER_TABLE', datetime.datetime(2024, 8, 27, 4, 45, 31, 53000), datetime.datetime(2024, 8, 29, 4, 37, 28, 233000), False, False, False, 0, None, 9, False, True, False, False, False, False, False, 0, False, False, 0, 'TABLE', False, False, 0, 'SCHEMA_AND_DATA', 0, 'NON_TEMPORAL_TABLE', None, False, False, None, None, None, False, False, -1, -1, 'INFINITE', 0, 'NON_LEDGER_TABLE', None, False), ('constructor_results', 1317579732, None, 1, 0, 'U ', 'USER_TABLE', datetime.datetime(2024, 8, 27, 4, 46, 5, 23000), datetime.datetime(2024, 8, 29, 4, 37, 45, 43000), False, False, False, 0, None, 5, False, True, False, False, False, False, False, 0, False, False, 0, 'TABLE', False, False, 0, 'SCHEMA_AND_DATA', 0, 'NON_TEMPORAL_TABLE', None, False, False, None, None, None, False, False, -1, -1, 'INFINITE', 0, 'NON_LEDGER_TABLE', None, False), ('constructor_standings', 1333579789, None, 1, 0, 'U ', 'USER_TABLE', datetime.datetime(2024, 8, 27, 4, 46, 39, 680000), datetime.datetime(2024, 8, 29, 4, 39, 16, 707000), False, False, False, 0, None, 7, False, True, False, False, False, False, False, 0, False, False, 0, 'TABLE', False, False, 0, 'SCHEMA_AND_DATA', 0, 'NON_TEMPORAL_TABLE', None, False, False, None, None, None, False, False, -1, -1, 'INFINITE', 0, 'NON_LEDGER_TABLE', None, False), ('constructors', 1349579846, None, 1, 0, 'U ', 'USER_TABLE', datetime.datetime(2024, 8, 27, 4, 46, 54, 713000), datetime.datetime(2024, 8, 29, 4, 39, 16, 720000), False, False, False, 0, None, 5, False, True, False, False, False, False, False, 0, False, False, 0, 'TABLE', False, False, 0, 'SCHEMA_AND_DATA', 0, 'NON_TEMPORAL_TABLE', None, False, False, None, None, None, False, False, -1, -1, 'INFINITE', 0, 'NON_LEDGER_TABLE', None, False), ('driver_standings', 1365579903, None, 1, 0, 'U ', 'USER_TABLE', datetime.datetime(2024, 8, 27, 4, 47, 14, 553000), datetime.datetime(2024, 8, 29, 4, 38, 45, 70000), False, False, False, 0, None, 7, False, True, False, False, False, False, False, 0, False, False, 0, 'TABLE', False, False, 0, 'SCHEMA_AND_DATA', 0, 'NON_TEMPORAL_TABLE', None, False, False, None, None, None, False, False, -1, -1, 'INFINITE', 0, 'NON_LEDGER_TABLE', None, False), ('drivers', 1381579960, None, 1, 0, 'U ', 'USER_TABLE', datetime.datetime(2024, 8, 27, 4, 47, 29, 753000), datetime.datetime(2024, 8, 29, 4, 38, 56, 487000), False, False, False, 0, None, 9, False, True, False, False, False, False, False, 0, False, False, 0, 'TABLE', False, False, 0, 'SCHEMA_AND_DATA', 0, 'NON_TEMPORAL_TABLE', None, False, False, None, None, None, False, False, -1, -1, 'INFINITE', 0, 'NON_LEDGER_TABLE', None, False), ('lap_times', 1397580017, None, 1, 0, 'U ', 'USER_TABLE', datetime.datetime(2024, 8, 27, 4, 47, 44, 773000), datetime.datetime(2024, 8, 29, 4, 38, 50, 867000), False, False, False, 0, None, 6, False, True, False, False, False, False, False, 0, False, False, 0, 'TABLE', False, False, 0, 'SCHEMA_AND_DATA', 0, 'NON_TEMPORAL_TABLE', None, False, False, None, None, None, False, False, -1, -1, 'INFINITE', 0, 'NON_LEDGER_TABLE', None, False), ('pit_stops', 1413580074, None, 1, 0, 'U ', 'USER_TABLE', datetime.datetime(2024, 8, 27, 4, 48, 4, 757000), datetime.datetime(2024, 8, 29, 4, 38, 56, 470000), False, False, False, 0, None, 7, False, True, False, False, False, False, False, 0, False, False, 0, 'TABLE', False, False, 0, 'SCHEMA_AND_DATA', 0, 'NON_TEMPORAL_TABLE', None, False, False, None, None, None, False, False, -1, -1, 'INFINITE', 0, 'NON_LEDGER_TABLE', None, False), ('qualifying', 1429580131, None, 1, 0, 'U ', 'USER_TABLE', datetime.datetime(2024, 8, 27, 4, 48, 15, 540000), datetime.datetime(2024, 8, 27, 4, 48, 15, 540000), False, False, False, 0, None, 9, False, True, False, False, False, False, False, 0, False, False, 0, 'TABLE', False, False, 0, 'SCHEMA_AND_DATA', 0, 'NON_TEMPORAL_TABLE', None, False, False, None, None, None, False, False, -1, -1, 'INFINITE', 0, 'NON_LEDGER_TABLE', None, False), ('races', 1445580188, None, 1, 0, 'U ', 'USER_TABLE', datetime.datetime(2024, 8, 27, 4, 48, 29, 833000), datetime.datetime(2024, 8, 29, 4, 37, 37, 17000), False, False, False, 0, None, 18, False, True, False, False, False, False, False, 0, False, False, 0, 'TABLE', False, False, 0, 'SCHEMA_AND_DATA', 0, 'NON_TEMPORAL_TABLE', None, False, False, None, None, None, False, False, -1, -1, 'INFINITE', 0, 'NON_LEDGER_TABLE', None, False), ('results', 1461580245, None, 1, 0, 'U ', 'USER_TABLE', datetime.datetime(2024, 8, 27, 4, 48, 54, 620000), datetime.datetime(2024, 8, 29, 4, 39, 3, 413000), False, False, False, 0, None, 18, False, True, False, False, False, False, False, 0, False, False, 0, 'TABLE', False, False, 0, 'SCHEMA_AND_DATA', 0, 'NON_TEMPORAL_TABLE', None, False, False, None, None, None, False, False, -1, -1, 'INFINITE', 0, 'NON_LEDGER_TABLE', None, False), ('seasons', 1477580302, None, 1, 0, 'U ', 'USER_TABLE', datetime.datetime(2024, 8, 27, 4, 49, 9, 630000), datetime.datetime(2024, 8, 27, 4, 49, 9, 630000), False, False, False, 0, None, 2, False, True, False, False, False, False, False, 0, False, False, 0, 'TABLE', False, False, 0, 'SCHEMA_AND_DATA', 0, 'NON_TEMPORAL_TABLE', None, False, False, None, None, None, False, False, -1, -1, 'INFINITE', 0, 'NON_LEDGER_TABLE', None, False), ('sprint_results', 1493580359, None, 1, 0, 'U ', 'USER_TABLE', datetime.datetime(2024, 8, 27, 4, 49, 30, 10000), datetime.datetime(2024, 8, 29, 4, 39, 8, 957000), False, False, False, 0, None, 16, False, True, False, False, False, False, False, 0, False, False, 0, 'TABLE', False, False, 0, 'SCHEMA_AND_DATA', 0, 'NON_TEMPORAL_TABLE', None, False, False, None, None, None, False, False, -1, -1, 'INFINITE', 0, 'NON_LEDGER_TABLE', None, False), ('status', 1509580416, None, 1, 0, 'U ', 'USER_TABLE', datetime.datetime(2024, 8, 27, 4, 49, 44, 747000), datetime.datetime(2024, 8, 29, 4, 39, 8, 947000), False, False, False, 0, None, 2, False, True, False, False, False, False, False, 0, False, False, 0, 'TABLE', False, False, 0, 'SCHEMA_AND_DATA', 0, 'NON_TEMPORAL_TABLE', None, False, False, None, None, None, False, False, -1, -1, 'INFINITE', 0, 'NON_LEDGER_TABLE', None, False)]\n"
     ]
    }
   ],
   "source": [
    "cursor = connection.cursor()\n",
    "cursor.execute(\"SELECT * FROM sys.tables\")\n",
    "rows = cursor.fetchall()\n",
    "print(rows) # this will print all the tables available in the lakehouse or warehouse"
   ]
  },
  {
   "cell_type": "code",
   "execution_count": null,
   "metadata": {},
   "outputs": [],
   "source": []
  },
  {
   "cell_type": "code",
   "execution_count": 24,
   "metadata": {},
   "outputs": [],
   "source": [
    "def generate_dataset(yearfrom,yearuntil,positionfrom,positionuntil):\n",
    "    cursor.execute( f\"\"\"\n",
    "    SELECT ra.raceId, ra.year,ra.round,ra.circuitId,re.driverId,re.constructorId,\n",
    "    re.grid,TRY_CAST(re.position as int) as position,re.points,re.statusId,st.status,\n",
    "    re.laps,re.fastestLap,re.fastestLapTime\n",
    "    FROM races ra \n",
    "    JOIN results re ON ra.raceId = re.raceId\n",
    "    JOIN status st ON st.statusId= re.statusId\n",
    "    WHERE position >= {positionfrom} AND position <= {positionuntil} AND ra.year >= {yearfrom} AND ra.year <= {yearuntil} \n",
    "    ORDER BY ra.year desc,ra.round, position\"\"\")\n",
    "    df= cursor.fetchall()\n",
    "    return df"
   ]
  },
  {
   "cell_type": "code",
   "execution_count": 25,
   "metadata": {},
   "outputs": [
    {
     "ename": "DataError",
     "evalue": "('22018', \"[22018] [Microsoft][ODBC Driver 18 for SQL Server][SQL Server]Conversion failed when converting the varchar value '\\\\N' to data type int. (245) (SQLExecDirectW); [22018] [Microsoft][ODBC Driver 18 for SQL Server][SQL Server]Statement ID: {3D237F0C-34FE-4BD1-9633-B8049E81A66D} | Query hash: 0x830C1EF2CD8590F2 | Distributed request ID: {7002F2A5-EC97-4736-BF8B-4DE520FF1FA9} (15806)\")",
     "output_type": "error",
     "traceback": [
      "\u001b[1;31m---------------------------------------------------------------------------\u001b[0m",
      "\u001b[1;31mDataError\u001b[0m                                 Traceback (most recent call last)",
      "Cell \u001b[1;32mIn[25], line 1\u001b[0m\n\u001b[1;32m----> 1\u001b[0m df1\u001b[38;5;241m=\u001b[39m \u001b[43mgenerate_dataset\u001b[49m\u001b[43m(\u001b[49m\u001b[38;5;241;43m1982\u001b[39;49m\u001b[43m,\u001b[49m\u001b[38;5;241;43m2024\u001b[39;49m\u001b[43m,\u001b[49m\u001b[38;5;241;43m1\u001b[39;49m\u001b[43m,\u001b[49m\u001b[38;5;241;43m8\u001b[39;49m\u001b[43m)\u001b[49m\n",
      "Cell \u001b[1;32mIn[24], line 2\u001b[0m, in \u001b[0;36mgenerate_dataset\u001b[1;34m(yearfrom, yearuntil, positionfrom, positionuntil)\u001b[0m\n\u001b[0;32m      1\u001b[0m \u001b[38;5;28;01mdef\u001b[39;00m \u001b[38;5;21mgenerate_dataset\u001b[39m(yearfrom,yearuntil,positionfrom,positionuntil):\n\u001b[1;32m----> 2\u001b[0m     \u001b[43mcursor\u001b[49m\u001b[38;5;241;43m.\u001b[39;49m\u001b[43mexecute\u001b[49m\u001b[43m(\u001b[49m\u001b[43m \u001b[49m\u001b[38;5;124;43mf\u001b[39;49m\u001b[38;5;124;43m\"\"\"\u001b[39;49m\n\u001b[0;32m      3\u001b[0m \u001b[38;5;124;43m    SELECT ra.raceId, ra.year,ra.round,ra.circuitId,re.driverId,re.constructorId,\u001b[39;49m\n\u001b[0;32m      4\u001b[0m \u001b[38;5;124;43m    re.grid,TRY_CAST(re.position as int) as position,re.points,re.statusId,st.status,\u001b[39;49m\n\u001b[0;32m      5\u001b[0m \u001b[38;5;124;43m    re.laps,re.fastestLap,re.fastestLapTime\u001b[39;49m\n\u001b[0;32m      6\u001b[0m \u001b[38;5;124;43m    FROM races ra \u001b[39;49m\n\u001b[0;32m      7\u001b[0m \u001b[38;5;124;43m    JOIN results re ON ra.raceId = re.raceId\u001b[39;49m\n\u001b[0;32m      8\u001b[0m \u001b[38;5;124;43m    JOIN status st ON st.statusId= re.statusId\u001b[39;49m\n\u001b[0;32m      9\u001b[0m \u001b[38;5;124;43m    WHERE position >= \u001b[39;49m\u001b[38;5;132;43;01m{\u001b[39;49;00m\u001b[43mpositionfrom\u001b[49m\u001b[38;5;132;43;01m}\u001b[39;49;00m\u001b[38;5;124;43m AND position <= \u001b[39;49m\u001b[38;5;132;43;01m{\u001b[39;49;00m\u001b[43mpositionuntil\u001b[49m\u001b[38;5;132;43;01m}\u001b[39;49;00m\u001b[38;5;124;43m AND ra.year >= \u001b[39;49m\u001b[38;5;132;43;01m{\u001b[39;49;00m\u001b[43myearfrom\u001b[49m\u001b[38;5;132;43;01m}\u001b[39;49;00m\u001b[38;5;124;43m AND ra.year <= \u001b[39;49m\u001b[38;5;132;43;01m{\u001b[39;49;00m\u001b[43myearuntil\u001b[49m\u001b[38;5;132;43;01m}\u001b[39;49;00m\u001b[38;5;124;43m \u001b[39;49m\n\u001b[0;32m     10\u001b[0m \u001b[38;5;124;43m    ORDER BY ra.year desc,ra.round, position\u001b[39;49m\u001b[38;5;124;43m\"\"\"\u001b[39;49m\u001b[43m)\u001b[49m\n\u001b[0;32m     11\u001b[0m     df\u001b[38;5;241m=\u001b[39m cursor\u001b[38;5;241m.\u001b[39mfetchall()\n\u001b[0;32m     12\u001b[0m     \u001b[38;5;28;01mreturn\u001b[39;00m df\n",
      "\u001b[1;31mDataError\u001b[0m: ('22018', \"[22018] [Microsoft][ODBC Driver 18 for SQL Server][SQL Server]Conversion failed when converting the varchar value '\\\\N' to data type int. (245) (SQLExecDirectW); [22018] [Microsoft][ODBC Driver 18 for SQL Server][SQL Server]Statement ID: {3D237F0C-34FE-4BD1-9633-B8049E81A66D} | Query hash: 0x830C1EF2CD8590F2 | Distributed request ID: {7002F2A5-EC97-4736-BF8B-4DE520FF1FA9} (15806)\")"
     ]
    }
   ],
   "source": [
    "df1= generate_dataset(1982,2024,1,8)"
   ]
  },
  {
   "cell_type": "code",
   "execution_count": 1,
   "metadata": {},
   "outputs": [
    {
     "name": "stdout",
     "output_type": "stream",
     "text": [
      "<pyspark.sql.session.SparkSession object at 0x000001A2FDE6E810>\n"
     ]
    }
   ],
   "source": [
    "# Import SparkSession from pyspark.sql\n",
    "from pyspark.sql import SparkSession\n",
    "\n",
    "# Create my_spark\n",
    "my_spark=SparkSession.builder.getOrCreate()\n",
    "\n",
    "# Print my_spark\n",
    "print(my_spark)\n"
   ]
  },
  {
   "cell_type": "code",
   "execution_count": 3,
   "metadata": {},
   "outputs": [],
   "source": [
    "import pandas as pd"
   ]
  },
  {
   "cell_type": "code",
   "execution_count": 5,
   "metadata": {},
   "outputs": [],
   "source": [
    "positionfrom= 1\n",
    "positionuntil=3\n",
    "yearfrom= 1982\n",
    "yearuntil=2024"
   ]
  },
  {
   "cell_type": "code",
   "execution_count": 6,
   "metadata": {},
   "outputs": [],
   "source": [
    "query = f\"\"\"\n",
    "    SELECT ra.raceId, ra.year,ra.round,ra.circuitId,re.driverId,re.constructorId,\n",
    "    re.grid,cast(re.position as int) as position,re.points,re.statusId,st.status,\n",
    "    re.laps,re.fastestLap,re.fastestLapTime\n",
    "    FROM races ra \n",
    "    JOIN results re ON ra.raceId = re.raceId\n",
    "    JOIN status st ON st.statusId= re.statusId\n",
    "    WHERE position >= {positionfrom} AND position <= {positionuntil} AND ra.year >= {yearfrom} AND ra.year <= {yearuntil} \n",
    "    ORDER BY ra.year desc,ra.round, position\"\"\""
   ]
  },
  {
   "cell_type": "code",
   "execution_count": 7,
   "metadata": {},
   "outputs": [
    {
     "data": {
      "text/plain": [
       "'\\n    SELECT ra.raceId, ra.year,ra.round,ra.circuitId,re.driverId,re.constructorId,\\n    re.grid,cast(re.position as int) as position,re.points,re.statusId,st.status,\\n    re.laps,re.fastestLap,re.fastestLapTime\\n    FROM races ra \\n    JOIN results re ON ra.raceId = re.raceId\\n    JOIN status st ON st.statusId= re.statusId\\n    WHERE position >= 1 AND position <= 3 AND ra.year >= 1982 AND ra.year <= 2024 \\n    ORDER BY ra.year desc,ra.round, position'"
      ]
     },
     "execution_count": 7,
     "metadata": {},
     "output_type": "execute_result"
    }
   ],
   "source": [
    "query"
   ]
  },
  {
   "cell_type": "code",
   "execution_count": 20,
   "metadata": {},
   "outputs": [],
   "source": [
    "def generate_dataset(yearfrom,yearuntil,positionfrom,positionuntil):\n",
    "    query = f\"\"\"\n",
    "    SELECT ra.raceId, ra.year,ra.round,ra.circuitId,re.driverId,re.constructorId,\n",
    "    re.grid,cast(re.position as int) as position,re.points,re.statusId,st.status,\n",
    "    re.laps,re.fastestLap,re.fastestLapTime\n",
    "    FROM races ra \n",
    "    JOIN results re ON ra.raceId = re.raceId\n",
    "    JOIN status st ON st.statusId= re.statusId\n",
    "    WHERE position >= {positionfrom} AND position <= {positionuntil} AND ra.year >= {yearfrom} AND ra.year <= {yearuntil} \n",
    "    ORDER BY ra.year desc,ra.round, position\"\"\"\n",
    "    cursor = conn.execute(query)\n",
    "    df = pd.DataFrame(cursor.fetchall(), columns=[\"raceId\",\"year\",\"round\",\"circuitId\",\"driverId\",\"constructorId\",\"grid\",\"position\",\"points\",\"statusId\", \"status\",\"laps\",\"fastestLap\",\"fastestLapTime\"])\n",
    "    return df "
   ]
  },
  {
   "cell_type": "code",
   "execution_count": 21,
   "metadata": {},
   "outputs": [],
   "source": [
    "df1= generate_dataset(yearfrom,yearuntil,positionfrom,positionuntil)"
   ]
  },
  {
   "cell_type": "code",
   "execution_count": 22,
   "metadata": {},
   "outputs": [
    {
     "data": {
      "text/html": [
       "<div>\n",
       "<style scoped>\n",
       "    .dataframe tbody tr th:only-of-type {\n",
       "        vertical-align: middle;\n",
       "    }\n",
       "\n",
       "    .dataframe tbody tr th {\n",
       "        vertical-align: top;\n",
       "    }\n",
       "\n",
       "    .dataframe thead th {\n",
       "        text-align: right;\n",
       "    }\n",
       "</style>\n",
       "<table border=\"1\" class=\"dataframe\">\n",
       "  <thead>\n",
       "    <tr style=\"text-align: right;\">\n",
       "      <th></th>\n",
       "      <th>raceId</th>\n",
       "      <th>year</th>\n",
       "      <th>round</th>\n",
       "      <th>circuitId</th>\n",
       "      <th>driverId</th>\n",
       "      <th>constructorId</th>\n",
       "      <th>grid</th>\n",
       "      <th>position</th>\n",
       "      <th>points</th>\n",
       "      <th>statusId</th>\n",
       "      <th>status</th>\n",
       "      <th>laps</th>\n",
       "      <th>fastestLap</th>\n",
       "      <th>fastestLapTime</th>\n",
       "    </tr>\n",
       "  </thead>\n",
       "  <tbody>\n",
       "    <tr>\n",
       "      <th>0</th>\n",
       "      <td>1121</td>\n",
       "      <td>2024</td>\n",
       "      <td>1</td>\n",
       "      <td>3</td>\n",
       "      <td>830</td>\n",
       "      <td>9</td>\n",
       "      <td>1</td>\n",
       "      <td>1</td>\n",
       "      <td>26</td>\n",
       "      <td>1</td>\n",
       "      <td>Finished</td>\n",
       "      <td>57</td>\n",
       "      <td>39</td>\n",
       "      <td>1:32.608</td>\n",
       "    </tr>\n",
       "    <tr>\n",
       "      <th>1</th>\n",
       "      <td>1121</td>\n",
       "      <td>2024</td>\n",
       "      <td>1</td>\n",
       "      <td>3</td>\n",
       "      <td>815</td>\n",
       "      <td>9</td>\n",
       "      <td>5</td>\n",
       "      <td>2</td>\n",
       "      <td>18</td>\n",
       "      <td>1</td>\n",
       "      <td>Finished</td>\n",
       "      <td>57</td>\n",
       "      <td>40</td>\n",
       "      <td>1:34.364</td>\n",
       "    </tr>\n",
       "    <tr>\n",
       "      <th>2</th>\n",
       "      <td>1121</td>\n",
       "      <td>2024</td>\n",
       "      <td>1</td>\n",
       "      <td>3</td>\n",
       "      <td>832</td>\n",
       "      <td>6</td>\n",
       "      <td>4</td>\n",
       "      <td>3</td>\n",
       "      <td>15</td>\n",
       "      <td>1</td>\n",
       "      <td>Finished</td>\n",
       "      <td>57</td>\n",
       "      <td>44</td>\n",
       "      <td>1:34.507</td>\n",
       "    </tr>\n",
       "    <tr>\n",
       "      <th>3</th>\n",
       "      <td>1121</td>\n",
       "      <td>2024</td>\n",
       "      <td>1</td>\n",
       "      <td>3</td>\n",
       "      <td>840</td>\n",
       "      <td>117</td>\n",
       "      <td>12</td>\n",
       "      <td>10</td>\n",
       "      <td>1</td>\n",
       "      <td>1</td>\n",
       "      <td>Finished</td>\n",
       "      <td>57</td>\n",
       "      <td>30</td>\n",
       "      <td>1:35.632</td>\n",
       "    </tr>\n",
       "    <tr>\n",
       "      <th>4</th>\n",
       "      <td>1121</td>\n",
       "      <td>2024</td>\n",
       "      <td>1</td>\n",
       "      <td>3</td>\n",
       "      <td>855</td>\n",
       "      <td>15</td>\n",
       "      <td>17</td>\n",
       "      <td>11</td>\n",
       "      <td>0</td>\n",
       "      <td>11</td>\n",
       "      <td>+1 Lap</td>\n",
       "      <td>56</td>\n",
       "      <td>30</td>\n",
       "      <td>1:35.458</td>\n",
       "    </tr>\n",
       "    <tr>\n",
       "      <th>...</th>\n",
       "      <td>...</td>\n",
       "      <td>...</td>\n",
       "      <td>...</td>\n",
       "      <td>...</td>\n",
       "      <td>...</td>\n",
       "      <td>...</td>\n",
       "      <td>...</td>\n",
       "      <td>...</td>\n",
       "      <td>...</td>\n",
       "      <td>...</td>\n",
       "      <td>...</td>\n",
       "      <td>...</td>\n",
       "      <td>...</td>\n",
       "      <td>...</td>\n",
       "    </tr>\n",
       "    <tr>\n",
       "      <th>95</th>\n",
       "      <td>1129</td>\n",
       "      <td>2024</td>\n",
       "      <td>9</td>\n",
       "      <td>7</td>\n",
       "      <td>830</td>\n",
       "      <td>9</td>\n",
       "      <td>2</td>\n",
       "      <td>1</td>\n",
       "      <td>25</td>\n",
       "      <td>1</td>\n",
       "      <td>Finished</td>\n",
       "      <td>70</td>\n",
       "      <td>70</td>\n",
       "      <td>1:15.569</td>\n",
       "    </tr>\n",
       "    <tr>\n",
       "      <th>96</th>\n",
       "      <td>1129</td>\n",
       "      <td>2024</td>\n",
       "      <td>9</td>\n",
       "      <td>7</td>\n",
       "      <td>846</td>\n",
       "      <td>1</td>\n",
       "      <td>3</td>\n",
       "      <td>2</td>\n",
       "      <td>18</td>\n",
       "      <td>1</td>\n",
       "      <td>Finished</td>\n",
       "      <td>70</td>\n",
       "      <td>67</td>\n",
       "      <td>1:15.558</td>\n",
       "    </tr>\n",
       "    <tr>\n",
       "      <th>97</th>\n",
       "      <td>1129</td>\n",
       "      <td>2024</td>\n",
       "      <td>9</td>\n",
       "      <td>7</td>\n",
       "      <td>847</td>\n",
       "      <td>131</td>\n",
       "      <td>1</td>\n",
       "      <td>3</td>\n",
       "      <td>15</td>\n",
       "      <td>1</td>\n",
       "      <td>Finished</td>\n",
       "      <td>70</td>\n",
       "      <td>70</td>\n",
       "      <td>1:14.895</td>\n",
       "    </tr>\n",
       "    <tr>\n",
       "      <th>98</th>\n",
       "      <td>1129</td>\n",
       "      <td>2024</td>\n",
       "      <td>9</td>\n",
       "      <td>7</td>\n",
       "      <td>839</td>\n",
       "      <td>214</td>\n",
       "      <td>18</td>\n",
       "      <td>10</td>\n",
       "      <td>1</td>\n",
       "      <td>1</td>\n",
       "      <td>Finished</td>\n",
       "      <td>70</td>\n",
       "      <td>70</td>\n",
       "      <td>1:17.012</td>\n",
       "    </tr>\n",
       "    <tr>\n",
       "      <th>99</th>\n",
       "      <td>1129</td>\n",
       "      <td>2024</td>\n",
       "      <td>9</td>\n",
       "      <td>7</td>\n",
       "      <td>807</td>\n",
       "      <td>210</td>\n",
       "      <td>17</td>\n",
       "      <td>11</td>\n",
       "      <td>0</td>\n",
       "      <td>1</td>\n",
       "      <td>Finished</td>\n",
       "      <td>70</td>\n",
       "      <td>67</td>\n",
       "      <td>1:16.683</td>\n",
       "    </tr>\n",
       "  </tbody>\n",
       "</table>\n",
       "<p>100 rows × 14 columns</p>\n",
       "</div>"
      ],
      "text/plain": [
       "   raceId  year round circuitId driverId constructorId grid position points  \\\n",
       "0    1121  2024     1         3      830             9    1        1     26   \n",
       "1    1121  2024     1         3      815             9    5        2     18   \n",
       "2    1121  2024     1         3      832             6    4        3     15   \n",
       "3    1121  2024     1         3      840           117   12       10      1   \n",
       "4    1121  2024     1         3      855            15   17       11      0   \n",
       "..    ...   ...   ...       ...      ...           ...  ...      ...    ...   \n",
       "95   1129  2024     9         7      830             9    2        1     25   \n",
       "96   1129  2024     9         7      846             1    3        2     18   \n",
       "97   1129  2024     9         7      847           131    1        3     15   \n",
       "98   1129  2024     9         7      839           214   18       10      1   \n",
       "99   1129  2024     9         7      807           210   17       11      0   \n",
       "\n",
       "   statusId    status laps fastestLap fastestLapTime  \n",
       "0         1  Finished   57         39       1:32.608  \n",
       "1         1  Finished   57         40       1:34.364  \n",
       "2         1  Finished   57         44       1:34.507  \n",
       "3         1  Finished   57         30       1:35.632  \n",
       "4        11    +1 Lap   56         30       1:35.458  \n",
       "..      ...       ...  ...        ...            ...  \n",
       "95        1  Finished   70         70       1:15.569  \n",
       "96        1  Finished   70         67       1:15.558  \n",
       "97        1  Finished   70         70       1:14.895  \n",
       "98        1  Finished   70         70       1:17.012  \n",
       "99        1  Finished   70         67       1:16.683  \n",
       "\n",
       "[100 rows x 14 columns]"
      ]
     },
     "execution_count": 22,
     "metadata": {},
     "output_type": "execute_result"
    }
   ],
   "source": [
    "df1.head(100)"
   ]
  },
  {
   "cell_type": "markdown",
   "metadata": {},
   "source": [
    "TUTORIAL DE CONEXION DESDE VSCODE AL DATALAKE DE FABRIC A TRAVES DE ODBC:\n",
    "https://debruyn.dev/2023/connect-to-fabric-lakehouses-warehouses-from-python-code/"
   ]
  },
  {
   "cell_type": "code",
   "execution_count": null,
   "metadata": {},
   "outputs": [],
   "source": []
  },
  {
   "cell_type": "code",
   "execution_count": 23,
   "metadata": {},
   "outputs": [],
   "source": [
    "def generate_dataset_spark(yearfrom,yearuntil,positionfrom,positionuntil):\n",
    "    query = f\"\"\"\n",
    "    SELECT ra.raceId, ra.year,ra.round,ra.circuitId,re.driverId,re.constructorId,\n",
    "    re.grid,cast(re.position as int) as position,re.points,re.statusId,st.status,\n",
    "    re.laps,re.fastestLap,re.fastestLapTime\n",
    "    FROM races ra \n",
    "    JOIN results re ON ra.raceId = re.raceId\n",
    "    JOIN status st ON st.statusId= re.statusId\n",
    "    WHERE position >= {positionfrom} AND position <= {positionuntil} AND ra.year >= {yearfrom} AND ra.year <= {yearuntil} \n",
    "    ORDER BY ra.year desc,ra.round, position\"\"\"\n",
    "    df = my_spark.sql(query)\n",
    "    return df "
   ]
  },
  {
   "cell_type": "code",
   "execution_count": 26,
   "metadata": {},
   "outputs": [
    {
     "ename": "AnalysisException",
     "evalue": "[TABLE_OR_VIEW_NOT_FOUND] The table or view `races` cannot be found. Verify the spelling and correctness of the schema and catalog.\nIf you did not qualify the name with a schema, verify the current_schema() output, or qualify the name with the correct schema and catalog.\nTo tolerate the error on drop use DROP VIEW IF EXISTS or DROP TABLE IF EXISTS.; line 5 pos 9;\n'Sort ['ra.year DESC NULLS LAST, 'ra.round ASC NULLS FIRST, 'position ASC NULLS FIRST], true\n+- 'Project ['ra.raceId, 'ra.year, 'ra.round, 'ra.circuitId, 're.driverId, 're.constructorId, 're.grid, cast('re.position as int) AS position#0, 're.points, 're.statusId, 'st.status, 're.laps, 're.fastestLap, 're.fastestLapTime]\n   +- 'Filter ((('position >= 1) AND ('position <= 3)) AND (('ra.year >= 1982) AND ('ra.year <= 2024)))\n      +- 'Join Inner, ('st.statusId = 're.statusId)\n         :- 'Join Inner, ('ra.raceId = 're.raceId)\n         :  :- 'SubqueryAlias ra\n         :  :  +- 'UnresolvedRelation [races], [], false\n         :  +- 'SubqueryAlias re\n         :     +- 'UnresolvedRelation [results], [], false\n         +- 'SubqueryAlias st\n            +- 'UnresolvedRelation [status], [], false\n",
     "output_type": "error",
     "traceback": [
      "\u001b[1;31m---------------------------------------------------------------------------\u001b[0m",
      "\u001b[1;31mAnalysisException\u001b[0m                         Traceback (most recent call last)",
      "Cell \u001b[1;32mIn[26], line 1\u001b[0m\n\u001b[1;32m----> 1\u001b[0m dfspark\u001b[38;5;241m=\u001b[39m \u001b[43mgenerate_dataset_spark\u001b[49m\u001b[43m(\u001b[49m\u001b[43myearfrom\u001b[49m\u001b[43m,\u001b[49m\u001b[43myearuntil\u001b[49m\u001b[43m,\u001b[49m\u001b[43mpositionfrom\u001b[49m\u001b[43m,\u001b[49m\u001b[43mpositionuntil\u001b[49m\u001b[43m)\u001b[49m\n",
      "Cell \u001b[1;32mIn[23], line 11\u001b[0m, in \u001b[0;36mgenerate_dataset_spark\u001b[1;34m(yearfrom, yearuntil, positionfrom, positionuntil)\u001b[0m\n\u001b[0;32m      1\u001b[0m \u001b[38;5;28;01mdef\u001b[39;00m \u001b[38;5;21mgenerate_dataset_spark\u001b[39m(yearfrom,yearuntil,positionfrom,positionuntil):\n\u001b[0;32m      2\u001b[0m     query \u001b[38;5;241m=\u001b[39m \u001b[38;5;124mf\u001b[39m\u001b[38;5;124m\"\"\"\u001b[39m\n\u001b[0;32m      3\u001b[0m \u001b[38;5;124m    SELECT ra.raceId, ra.year,ra.round,ra.circuitId,re.driverId,re.constructorId,\u001b[39m\n\u001b[0;32m      4\u001b[0m \u001b[38;5;124m    re.grid,cast(re.position as int) as position,re.points,re.statusId,st.status,\u001b[39m\n\u001b[1;32m   (...)\u001b[0m\n\u001b[0;32m      9\u001b[0m \u001b[38;5;124m    WHERE position >= \u001b[39m\u001b[38;5;132;01m{\u001b[39;00mpositionfrom\u001b[38;5;132;01m}\u001b[39;00m\u001b[38;5;124m AND position <= \u001b[39m\u001b[38;5;132;01m{\u001b[39;00mpositionuntil\u001b[38;5;132;01m}\u001b[39;00m\u001b[38;5;124m AND ra.year >= \u001b[39m\u001b[38;5;132;01m{\u001b[39;00myearfrom\u001b[38;5;132;01m}\u001b[39;00m\u001b[38;5;124m AND ra.year <= \u001b[39m\u001b[38;5;132;01m{\u001b[39;00myearuntil\u001b[38;5;132;01m}\u001b[39;00m\u001b[38;5;124m \u001b[39m\n\u001b[0;32m     10\u001b[0m \u001b[38;5;124m    ORDER BY ra.year desc,ra.round, position\u001b[39m\u001b[38;5;124m\"\"\"\u001b[39m\n\u001b[1;32m---> 11\u001b[0m     df \u001b[38;5;241m=\u001b[39m \u001b[43mmy_spark\u001b[49m\u001b[38;5;241;43m.\u001b[39;49m\u001b[43msql\u001b[49m\u001b[43m(\u001b[49m\u001b[43mquery\u001b[49m\u001b[43m)\u001b[49m\n\u001b[0;32m     12\u001b[0m     \u001b[38;5;28;01mreturn\u001b[39;00m df\n",
      "File \u001b[1;32mc:\\Users\\Usuario\\AppData\\Local\\Programs\\Python\\Python311\\Lib\\site-packages\\pyspark\\sql\\session.py:1631\u001b[0m, in \u001b[0;36mSparkSession.sql\u001b[1;34m(self, sqlQuery, args, **kwargs)\u001b[0m\n\u001b[0;32m   1627\u001b[0m         \u001b[38;5;28;01massert\u001b[39;00m \u001b[38;5;28mself\u001b[39m\u001b[38;5;241m.\u001b[39m_jvm \u001b[38;5;129;01mis\u001b[39;00m \u001b[38;5;129;01mnot\u001b[39;00m \u001b[38;5;28;01mNone\u001b[39;00m\n\u001b[0;32m   1628\u001b[0m         litArgs \u001b[38;5;241m=\u001b[39m \u001b[38;5;28mself\u001b[39m\u001b[38;5;241m.\u001b[39m_jvm\u001b[38;5;241m.\u001b[39mPythonUtils\u001b[38;5;241m.\u001b[39mtoArray(\n\u001b[0;32m   1629\u001b[0m             [_to_java_column(lit(v)) \u001b[38;5;28;01mfor\u001b[39;00m v \u001b[38;5;129;01min\u001b[39;00m (args \u001b[38;5;129;01mor\u001b[39;00m [])]\n\u001b[0;32m   1630\u001b[0m         )\n\u001b[1;32m-> 1631\u001b[0m     \u001b[38;5;28;01mreturn\u001b[39;00m DataFrame(\u001b[38;5;28;43mself\u001b[39;49m\u001b[38;5;241;43m.\u001b[39;49m\u001b[43m_jsparkSession\u001b[49m\u001b[38;5;241;43m.\u001b[39;49m\u001b[43msql\u001b[49m\u001b[43m(\u001b[49m\u001b[43msqlQuery\u001b[49m\u001b[43m,\u001b[49m\u001b[43m \u001b[49m\u001b[43mlitArgs\u001b[49m\u001b[43m)\u001b[49m, \u001b[38;5;28mself\u001b[39m)\n\u001b[0;32m   1632\u001b[0m \u001b[38;5;28;01mfinally\u001b[39;00m:\n\u001b[0;32m   1633\u001b[0m     \u001b[38;5;28;01mif\u001b[39;00m \u001b[38;5;28mlen\u001b[39m(kwargs) \u001b[38;5;241m>\u001b[39m \u001b[38;5;241m0\u001b[39m:\n",
      "File \u001b[1;32mc:\\Users\\Usuario\\AppData\\Local\\Programs\\Python\\Python311\\Lib\\site-packages\\py4j\\java_gateway.py:1322\u001b[0m, in \u001b[0;36mJavaMember.__call__\u001b[1;34m(self, *args)\u001b[0m\n\u001b[0;32m   1316\u001b[0m command \u001b[38;5;241m=\u001b[39m proto\u001b[38;5;241m.\u001b[39mCALL_COMMAND_NAME \u001b[38;5;241m+\u001b[39m\\\n\u001b[0;32m   1317\u001b[0m     \u001b[38;5;28mself\u001b[39m\u001b[38;5;241m.\u001b[39mcommand_header \u001b[38;5;241m+\u001b[39m\\\n\u001b[0;32m   1318\u001b[0m     args_command \u001b[38;5;241m+\u001b[39m\\\n\u001b[0;32m   1319\u001b[0m     proto\u001b[38;5;241m.\u001b[39mEND_COMMAND_PART\n\u001b[0;32m   1321\u001b[0m answer \u001b[38;5;241m=\u001b[39m \u001b[38;5;28mself\u001b[39m\u001b[38;5;241m.\u001b[39mgateway_client\u001b[38;5;241m.\u001b[39msend_command(command)\n\u001b[1;32m-> 1322\u001b[0m return_value \u001b[38;5;241m=\u001b[39m \u001b[43mget_return_value\u001b[49m\u001b[43m(\u001b[49m\n\u001b[0;32m   1323\u001b[0m \u001b[43m    \u001b[49m\u001b[43manswer\u001b[49m\u001b[43m,\u001b[49m\u001b[43m \u001b[49m\u001b[38;5;28;43mself\u001b[39;49m\u001b[38;5;241;43m.\u001b[39;49m\u001b[43mgateway_client\u001b[49m\u001b[43m,\u001b[49m\u001b[43m \u001b[49m\u001b[38;5;28;43mself\u001b[39;49m\u001b[38;5;241;43m.\u001b[39;49m\u001b[43mtarget_id\u001b[49m\u001b[43m,\u001b[49m\u001b[43m \u001b[49m\u001b[38;5;28;43mself\u001b[39;49m\u001b[38;5;241;43m.\u001b[39;49m\u001b[43mname\u001b[49m\u001b[43m)\u001b[49m\n\u001b[0;32m   1325\u001b[0m \u001b[38;5;28;01mfor\u001b[39;00m temp_arg \u001b[38;5;129;01min\u001b[39;00m temp_args:\n\u001b[0;32m   1326\u001b[0m     \u001b[38;5;28;01mif\u001b[39;00m \u001b[38;5;28mhasattr\u001b[39m(temp_arg, \u001b[38;5;124m\"\u001b[39m\u001b[38;5;124m_detach\u001b[39m\u001b[38;5;124m\"\u001b[39m):\n",
      "File \u001b[1;32mc:\\Users\\Usuario\\AppData\\Local\\Programs\\Python\\Python311\\Lib\\site-packages\\pyspark\\errors\\exceptions\\captured.py:185\u001b[0m, in \u001b[0;36mcapture_sql_exception.<locals>.deco\u001b[1;34m(*a, **kw)\u001b[0m\n\u001b[0;32m    181\u001b[0m converted \u001b[38;5;241m=\u001b[39m convert_exception(e\u001b[38;5;241m.\u001b[39mjava_exception)\n\u001b[0;32m    182\u001b[0m \u001b[38;5;28;01mif\u001b[39;00m \u001b[38;5;129;01mnot\u001b[39;00m \u001b[38;5;28misinstance\u001b[39m(converted, UnknownException):\n\u001b[0;32m    183\u001b[0m     \u001b[38;5;66;03m# Hide where the exception came from that shows a non-Pythonic\u001b[39;00m\n\u001b[0;32m    184\u001b[0m     \u001b[38;5;66;03m# JVM exception message.\u001b[39;00m\n\u001b[1;32m--> 185\u001b[0m     \u001b[38;5;28;01mraise\u001b[39;00m converted \u001b[38;5;28;01mfrom\u001b[39;00m \u001b[38;5;28;01mNone\u001b[39;00m\n\u001b[0;32m    186\u001b[0m \u001b[38;5;28;01melse\u001b[39;00m:\n\u001b[0;32m    187\u001b[0m     \u001b[38;5;28;01mraise\u001b[39;00m\n",
      "\u001b[1;31mAnalysisException\u001b[0m: [TABLE_OR_VIEW_NOT_FOUND] The table or view `races` cannot be found. Verify the spelling and correctness of the schema and catalog.\nIf you did not qualify the name with a schema, verify the current_schema() output, or qualify the name with the correct schema and catalog.\nTo tolerate the error on drop use DROP VIEW IF EXISTS or DROP TABLE IF EXISTS.; line 5 pos 9;\n'Sort ['ra.year DESC NULLS LAST, 'ra.round ASC NULLS FIRST, 'position ASC NULLS FIRST], true\n+- 'Project ['ra.raceId, 'ra.year, 'ra.round, 'ra.circuitId, 're.driverId, 're.constructorId, 're.grid, cast('re.position as int) AS position#0, 're.points, 're.statusId, 'st.status, 're.laps, 're.fastestLap, 're.fastestLapTime]\n   +- 'Filter ((('position >= 1) AND ('position <= 3)) AND (('ra.year >= 1982) AND ('ra.year <= 2024)))\n      +- 'Join Inner, ('st.statusId = 're.statusId)\n         :- 'Join Inner, ('ra.raceId = 're.raceId)\n         :  :- 'SubqueryAlias ra\n         :  :  +- 'UnresolvedRelation [races], [], false\n         :  +- 'SubqueryAlias re\n         :     +- 'UnresolvedRelation [results], [], false\n         +- 'SubqueryAlias st\n            +- 'UnresolvedRelation [status], [], false\n"
     ]
    }
   ],
   "source": [
    "dfspark= generate_dataset_spark(yearfrom,yearuntil,positionfrom,positionuntil)"
   ]
  },
  {
   "cell_type": "code",
   "execution_count": 25,
   "metadata": {},
   "outputs": [
    {
     "ename": "AttributeError",
     "evalue": "'DataFrame' object has no attribute 'show'",
     "output_type": "error",
     "traceback": [
      "\u001b[1;31m---------------------------------------------------------------------------\u001b[0m",
      "\u001b[1;31mAttributeError\u001b[0m                            Traceback (most recent call last)",
      "\u001b[1;32m~\\AppData\\Local\\Temp\\ipykernel_5976\\2405200198.py\u001b[0m in \u001b[0;36m?\u001b[1;34m()\u001b[0m\n\u001b[1;32m----> 1\u001b[1;33m \u001b[0mdfspark\u001b[0m\u001b[1;33m.\u001b[0m\u001b[0mshow\u001b[0m\u001b[1;33m(\u001b[0m\u001b[1;33m)\u001b[0m\u001b[1;33m\u001b[0m\u001b[1;33m\u001b[0m\u001b[0m\n\u001b[0m",
      "\u001b[1;32mc:\\Users\\Usuario\\AppData\\Local\\Programs\\Python\\Python311\\Lib\\site-packages\\pandas\\core\\generic.py\u001b[0m in \u001b[0;36m?\u001b[1;34m(self, name)\u001b[0m\n\u001b[0;32m   5985\u001b[0m             \u001b[1;32mand\u001b[0m \u001b[0mname\u001b[0m \u001b[1;32mnot\u001b[0m \u001b[1;32min\u001b[0m \u001b[0mself\u001b[0m\u001b[1;33m.\u001b[0m\u001b[0m_accessors\u001b[0m\u001b[1;33m\u001b[0m\u001b[1;33m\u001b[0m\u001b[0m\n\u001b[0;32m   5986\u001b[0m             \u001b[1;32mand\u001b[0m \u001b[0mself\u001b[0m\u001b[1;33m.\u001b[0m\u001b[0m_info_axis\u001b[0m\u001b[1;33m.\u001b[0m\u001b[0m_can_hold_identifiers_and_holds_name\u001b[0m\u001b[1;33m(\u001b[0m\u001b[0mname\u001b[0m\u001b[1;33m)\u001b[0m\u001b[1;33m\u001b[0m\u001b[1;33m\u001b[0m\u001b[0m\n\u001b[0;32m   5987\u001b[0m         ):\n\u001b[0;32m   5988\u001b[0m             \u001b[1;32mreturn\u001b[0m \u001b[0mself\u001b[0m\u001b[1;33m[\u001b[0m\u001b[0mname\u001b[0m\u001b[1;33m]\u001b[0m\u001b[1;33m\u001b[0m\u001b[1;33m\u001b[0m\u001b[0m\n\u001b[1;32m-> 5989\u001b[1;33m         \u001b[1;32mreturn\u001b[0m \u001b[0mobject\u001b[0m\u001b[1;33m.\u001b[0m\u001b[0m__getattribute__\u001b[0m\u001b[1;33m(\u001b[0m\u001b[0mself\u001b[0m\u001b[1;33m,\u001b[0m \u001b[0mname\u001b[0m\u001b[1;33m)\u001b[0m\u001b[1;33m\u001b[0m\u001b[1;33m\u001b[0m\u001b[0m\n\u001b[0m",
      "\u001b[1;31mAttributeError\u001b[0m: 'DataFrame' object has no attribute 'show'"
     ]
    }
   ],
   "source": [
    "dfspark.show()"
   ]
  }
 ],
 "metadata": {
  "kernelspec": {
   "display_name": "Python 3",
   "language": "python",
   "name": "python3"
  },
  "language_info": {
   "codemirror_mode": {
    "name": "ipython",
    "version": 3
   },
   "file_extension": ".py",
   "mimetype": "text/x-python",
   "name": "python",
   "nbconvert_exporter": "python",
   "pygments_lexer": "ipython3",
   "version": "3.11.2"
  }
 },
 "nbformat": 4,
 "nbformat_minor": 2
}
