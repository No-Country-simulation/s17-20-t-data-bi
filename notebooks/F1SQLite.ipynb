{
 "cells": [
  {
   "cell_type": "code",
   "execution_count": null,
   "metadata": {},
   "outputs": [],
   "source": [
    "import sqlitecloud\n",
    "SQLiteCloud_connectionstring= \"sqlitecloud://cqzdwoclsz.sqlite.cloud:8860?apikey=8ZBRx9VjOUr3L8r7arbcH8X27UpFfHwvq7qiaULwWdE\"\n",
    "conn = sqlitecloud.connect(SQLiteCloud_connectionstring)\n",
    "cursor = conn.execute(\"USE DATABASE Formula1.db\")"
   ]
  },
  {
   "cell_type": "code",
   "execution_count": null,
   "metadata": {},
   "outputs": [],
   "source": [
    "import pandas as pd"
   ]
  },
  {
   "cell_type": "code",
   "execution_count": null,
   "metadata": {},
   "outputs": [],
   "source": [
    "positionfrom= 1\n",
    "positionuntil=3\n",
    "yearfrom= 1982\n",
    "yearuntil=2024"
   ]
  },
  {
   "cell_type": "code",
   "execution_count": null,
   "metadata": {},
   "outputs": [],
   "source": [
    "def generate_dataset(yearfrom,yearuntil,positionfrom,positionuntil):\n",
    "    query = f\"\"\"\n",
    "    SELECT ra.raceId, ra.year,ra.round,ra.circuitId,re.driverId,re.constructorId,\n",
    "    re.grid,cast(re.position as int) as position,re.points,re.statusId,st.status,\n",
    "    re.laps,re.fastestLap,re.fastestLapTime\n",
    "    FROM races ra \n",
    "    JOIN results re ON ra.raceId = re.raceId\n",
    "    JOIN status st ON st.statusId= re.statusId\n",
    "    WHERE position >= {positionfrom} AND position <= {positionuntil} AND ra.year >= {yearfrom} AND ra.year <= {yearuntil} \n",
    "    ORDER BY ra.year desc,ra.round, position\"\"\"\n",
    "    cursor = conn.execute(query)\n",
    "    df = pd.DataFrame(cursor.fetchall(), columns=[\"raceId\",\"year\",\"round\",\"circuitId\",\"driverId\",\"constructorId\",\"grid\",\"position\",\"points\",\"statusId\", \"status\",\"laps\",\"fastestLap\",\"fastestLapTime\"])\n",
    "    return df "
   ]
  },
  {
   "cell_type": "code",
   "execution_count": null,
   "metadata": {},
   "outputs": [],
   "source": [
    "df1= generate_dataset(yearfrom,yearuntil,positionfrom,positionuntil)"
   ]
  },
  {
   "cell_type": "code",
   "execution_count": null,
   "metadata": {},
   "outputs": [],
   "source": [
    "df1.head(100)"
   ]
  }
 ],
 "metadata": {
  "language_info": {
   "name": "python"
  }
 },
 "nbformat": 4,
 "nbformat_minor": 2
}
